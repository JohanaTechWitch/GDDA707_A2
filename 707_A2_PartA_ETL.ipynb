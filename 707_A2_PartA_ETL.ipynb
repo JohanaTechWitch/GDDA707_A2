{
 "cells": [
  {
   "cell_type": "code",
   "execution_count": 1,
   "id": "ca7a676a-9cda-4691-99fb-f4523f4bcbc7",
   "metadata": {},
   "outputs": [
    {
     "name": "stdout",
     "output_type": "stream",
     "text": [
      "Requirement already satisfied: plotly in c:\\users\\johan\\appdata\\local\\programs\\python\\python312\\lib\\site-packages (5.22.0)\n",
      "Requirement already satisfied: dash in c:\\users\\johan\\appdata\\local\\programs\\python\\python312\\lib\\site-packages (2.17.1)\n",
      "Requirement already satisfied: pandas in c:\\users\\johan\\appdata\\local\\programs\\python\\python312\\lib\\site-packages (2.2.2)\n",
      "Requirement already satisfied: tenacity>=6.2.0 in c:\\users\\johan\\appdata\\local\\programs\\python\\python312\\lib\\site-packages (from plotly) (8.5.0)\n",
      "Requirement already satisfied: packaging in c:\\users\\johan\\appdata\\local\\programs\\python\\python312\\lib\\site-packages (from plotly) (24.0)\n",
      "Requirement already satisfied: Flask<3.1,>=1.0.4 in c:\\users\\johan\\appdata\\local\\programs\\python\\python312\\lib\\site-packages (from dash) (3.0.3)\n",
      "Requirement already satisfied: Werkzeug<3.1 in c:\\users\\johan\\appdata\\local\\programs\\python\\python312\\lib\\site-packages (from dash) (3.0.3)\n",
      "Requirement already satisfied: dash-html-components==2.0.0 in c:\\users\\johan\\appdata\\local\\programs\\python\\python312\\lib\\site-packages (from dash) (2.0.0)\n",
      "Requirement already satisfied: dash-core-components==2.0.0 in c:\\users\\johan\\appdata\\local\\programs\\python\\python312\\lib\\site-packages (from dash) (2.0.0)\n",
      "Requirement already satisfied: dash-table==5.0.0 in c:\\users\\johan\\appdata\\local\\programs\\python\\python312\\lib\\site-packages (from dash) (5.0.0)\n",
      "Requirement already satisfied: importlib-metadata in c:\\users\\johan\\appdata\\local\\programs\\python\\python312\\lib\\site-packages (from dash) (8.0.0)\n",
      "Requirement already satisfied: typing-extensions>=4.1.1 in c:\\users\\johan\\appdata\\local\\programs\\python\\python312\\lib\\site-packages (from dash) (4.12.2)\n",
      "Requirement already satisfied: requests in c:\\users\\johan\\appdata\\local\\programs\\python\\python312\\lib\\site-packages (from dash) (2.32.3)\n",
      "Requirement already satisfied: retrying in c:\\users\\johan\\appdata\\local\\programs\\python\\python312\\lib\\site-packages (from dash) (1.3.4)\n",
      "Requirement already satisfied: nest-asyncio in c:\\users\\johan\\appdata\\local\\programs\\python\\python312\\lib\\site-packages (from dash) (1.6.0)\n",
      "Requirement already satisfied: setuptools in c:\\users\\johan\\appdata\\local\\programs\\python\\python312\\lib\\site-packages (from dash) (70.2.0)\n",
      "Requirement already satisfied: numpy>=1.26.0 in c:\\users\\johan\\appdata\\local\\programs\\python\\python312\\lib\\site-packages (from pandas) (2.0.1)\n",
      "Requirement already satisfied: python-dateutil>=2.8.2 in c:\\users\\johan\\appdata\\local\\programs\\python\\python312\\lib\\site-packages (from pandas) (2.9.0.post0)\n",
      "Requirement already satisfied: pytz>=2020.1 in c:\\users\\johan\\appdata\\local\\programs\\python\\python312\\lib\\site-packages (from pandas) (2024.1)\n",
      "Requirement already satisfied: tzdata>=2022.7 in c:\\users\\johan\\appdata\\local\\programs\\python\\python312\\lib\\site-packages (from pandas) (2024.1)\n",
      "Requirement already satisfied: Jinja2>=3.1.2 in c:\\users\\johan\\appdata\\local\\programs\\python\\python312\\lib\\site-packages (from Flask<3.1,>=1.0.4->dash) (3.1.4)\n",
      "Requirement already satisfied: itsdangerous>=2.1.2 in c:\\users\\johan\\appdata\\local\\programs\\python\\python312\\lib\\site-packages (from Flask<3.1,>=1.0.4->dash) (2.2.0)\n",
      "Requirement already satisfied: click>=8.1.3 in c:\\users\\johan\\appdata\\local\\programs\\python\\python312\\lib\\site-packages (from Flask<3.1,>=1.0.4->dash) (8.1.7)\n",
      "Requirement already satisfied: blinker>=1.6.2 in c:\\users\\johan\\appdata\\local\\programs\\python\\python312\\lib\\site-packages (from Flask<3.1,>=1.0.4->dash) (1.8.2)\n",
      "Requirement already satisfied: six>=1.5 in c:\\users\\johan\\appdata\\local\\programs\\python\\python312\\lib\\site-packages (from python-dateutil>=2.8.2->pandas) (1.16.0)\n",
      "Requirement already satisfied: MarkupSafe>=2.1.1 in c:\\users\\johan\\appdata\\local\\programs\\python\\python312\\lib\\site-packages (from Werkzeug<3.1->dash) (2.1.5)\n",
      "Requirement already satisfied: zipp>=0.5 in c:\\users\\johan\\appdata\\local\\programs\\python\\python312\\lib\\site-packages (from importlib-metadata->dash) (3.19.2)\n",
      "Requirement already satisfied: charset-normalizer<4,>=2 in c:\\users\\johan\\appdata\\local\\programs\\python\\python312\\lib\\site-packages (from requests->dash) (3.3.2)\n",
      "Requirement already satisfied: idna<4,>=2.5 in c:\\users\\johan\\appdata\\local\\programs\\python\\python312\\lib\\site-packages (from requests->dash) (3.7)\n",
      "Requirement already satisfied: urllib3<3,>=1.21.1 in c:\\users\\johan\\appdata\\local\\programs\\python\\python312\\lib\\site-packages (from requests->dash) (2.2.1)\n",
      "Requirement already satisfied: certifi>=2017.4.17 in c:\\users\\johan\\appdata\\local\\programs\\python\\python312\\lib\\site-packages (from requests->dash) (2024.2.2)\n",
      "Requirement already satisfied: colorama in c:\\users\\johan\\appdata\\local\\programs\\python\\python312\\lib\\site-packages (from click>=8.1.3->Flask<3.1,>=1.0.4->dash) (0.4.6)\n",
      "Note: you may need to restart the kernel to use updated packages.\n"
     ]
    },
    {
     "name": "stderr",
     "output_type": "stream",
     "text": [
      "\n",
      "[notice] A new release of pip is available: 24.0 -> 24.2\n",
      "[notice] To update, run: python.exe -m pip install --upgrade pip\n"
     ]
    }
   ],
   "source": [
    "pip install plotly dash pandas\n"
   ]
  },
  {
   "cell_type": "code",
   "execution_count": 2,
   "id": "956673ca-600d-4de7-a492-5ec5a94030cc",
   "metadata": {},
   "outputs": [],
   "source": [
    "import pandas as pd\n",
    "import numpy as np\n",
    "import dash\n",
    "from dash import dcc, html\n",
    "from dash.dependencies import Input, Output\n",
    "import plotly.express as px\n",
    "import matplotlib.pyplot as plt\n"
   ]
  },
  {
   "cell_type": "code",
   "execution_count": 3,
   "id": "635ed475-4a2e-46f8-a496-41daa715308b",
   "metadata": {},
   "outputs": [
    {
     "data": {
      "text/html": [
       "<div>\n",
       "<style scoped>\n",
       "    .dataframe tbody tr th:only-of-type {\n",
       "        vertical-align: middle;\n",
       "    }\n",
       "\n",
       "    .dataframe tbody tr th {\n",
       "        vertical-align: top;\n",
       "    }\n",
       "\n",
       "    .dataframe thead th {\n",
       "        text-align: right;\n",
       "    }\n",
       "</style>\n",
       "<table border=\"1\" class=\"dataframe\">\n",
       "  <thead>\n",
       "    <tr style=\"text-align: right;\">\n",
       "      <th></th>\n",
       "      <th>InvoiceID</th>\n",
       "      <th>StockCode</th>\n",
       "      <th>Description</th>\n",
       "      <th>Quantity</th>\n",
       "      <th>InvoiceDate</th>\n",
       "      <th>UnitPrice</th>\n",
       "      <th>CustomerID</th>\n",
       "      <th>Country</th>\n",
       "    </tr>\n",
       "  </thead>\n",
       "  <tbody>\n",
       "    <tr>\n",
       "      <th>0</th>\n",
       "      <td>536365</td>\n",
       "      <td>85123A</td>\n",
       "      <td>WHITE HANGING HEART T-LIGHT HOLDER</td>\n",
       "      <td>6</td>\n",
       "      <td>1/12/2010 8:26</td>\n",
       "      <td>2.55</td>\n",
       "      <td>17850.0</td>\n",
       "      <td>United Kingdom</td>\n",
       "    </tr>\n",
       "    <tr>\n",
       "      <th>1</th>\n",
       "      <td>536365</td>\n",
       "      <td>71053</td>\n",
       "      <td>WHITE METAL LANTERN</td>\n",
       "      <td>6</td>\n",
       "      <td>1/12/2010 8:26</td>\n",
       "      <td>3.39</td>\n",
       "      <td>17850.0</td>\n",
       "      <td>United Kingdom</td>\n",
       "    </tr>\n",
       "    <tr>\n",
       "      <th>2</th>\n",
       "      <td>536365</td>\n",
       "      <td>84406B</td>\n",
       "      <td>CREAM CUPID HEARTS COAT HANGER</td>\n",
       "      <td>8</td>\n",
       "      <td>1/12/2010 8:26</td>\n",
       "      <td>2.75</td>\n",
       "      <td>17850.0</td>\n",
       "      <td>United Kingdom</td>\n",
       "    </tr>\n",
       "    <tr>\n",
       "      <th>3</th>\n",
       "      <td>536365</td>\n",
       "      <td>84029G</td>\n",
       "      <td>KNITTED UNION FLAG HOT WATER BOTTLE</td>\n",
       "      <td>6</td>\n",
       "      <td>1/12/2010 8:26</td>\n",
       "      <td>3.39</td>\n",
       "      <td>17850.0</td>\n",
       "      <td>United Kingdom</td>\n",
       "    </tr>\n",
       "    <tr>\n",
       "      <th>4</th>\n",
       "      <td>536365</td>\n",
       "      <td>84029E</td>\n",
       "      <td>RED WOOLLY HOTTIE WHITE HEART.</td>\n",
       "      <td>6</td>\n",
       "      <td>1/12/2010 8:26</td>\n",
       "      <td>3.39</td>\n",
       "      <td>17850.0</td>\n",
       "      <td>United Kingdom</td>\n",
       "    </tr>\n",
       "  </tbody>\n",
       "</table>\n",
       "</div>"
      ],
      "text/plain": [
       "  InvoiceID StockCode                          Description  Quantity  \\\n",
       "0    536365    85123A   WHITE HANGING HEART T-LIGHT HOLDER         6   \n",
       "1    536365     71053                  WHITE METAL LANTERN         6   \n",
       "2    536365    84406B       CREAM CUPID HEARTS COAT HANGER         8   \n",
       "3    536365    84029G  KNITTED UNION FLAG HOT WATER BOTTLE         6   \n",
       "4    536365    84029E       RED WOOLLY HOTTIE WHITE HEART.         6   \n",
       "\n",
       "      InvoiceDate  UnitPrice  CustomerID         Country  \n",
       "0  1/12/2010 8:26       2.55     17850.0  United Kingdom  \n",
       "1  1/12/2010 8:26       3.39     17850.0  United Kingdom  \n",
       "2  1/12/2010 8:26       2.75     17850.0  United Kingdom  \n",
       "3  1/12/2010 8:26       3.39     17850.0  United Kingdom  \n",
       "4  1/12/2010 8:26       3.39     17850.0  United Kingdom  "
      ]
     },
     "execution_count": 3,
     "metadata": {},
     "output_type": "execute_result"
    }
   ],
   "source": [
    "# Read OnlineRetail1.csv \n",
    "OnlineRetail1_df = pd.read_csv('OnlineRetail1.csv')\n",
    "OnlineRetail1_df.head()\n",
    "\n",
    "\n",
    "\n"
   ]
  },
  {
   "cell_type": "code",
   "execution_count": 4,
   "id": "54a81a61-5393-4b70-a576-435eb177ac9c",
   "metadata": {},
   "outputs": [
    {
     "data": {
      "text/plain": [
       "(1039, 8)"
      ]
     },
     "execution_count": 4,
     "metadata": {},
     "output_type": "execute_result"
    }
   ],
   "source": [
    "OnlineRetail1_df.shape\n"
   ]
  },
  {
   "cell_type": "code",
   "execution_count": 5,
   "id": "5fd510ff-b3fd-4449-90ca-42b6db91a791",
   "metadata": {},
   "outputs": [
    {
     "name": "stdout",
     "output_type": "stream",
     "text": [
      "InvoiceID      0\n",
      "StockCode      0\n",
      "Description    1\n",
      "Quantity       0\n",
      "InvoiceDate    0\n",
      "UnitPrice      0\n",
      "CustomerID     1\n",
      "Country        0\n",
      "dtype: int64\n"
     ]
    }
   ],
   "source": [
    "print (OnlineRetail1_df.isnull().sum()) \n"
   ]
  },
  {
   "cell_type": "code",
   "execution_count": 6,
   "id": "9f59f251-39ea-4c9e-a2c4-db3d3b93fa7e",
   "metadata": {},
   "outputs": [],
   "source": [
    "OnlineRetail1_df = OnlineRetail1_df.dropna()\n"
   ]
  },
  {
   "cell_type": "code",
   "execution_count": 7,
   "id": "888683e0-1de1-4dbb-8fa5-7d59e3942dd6",
   "metadata": {},
   "outputs": [
    {
     "name": "stdout",
     "output_type": "stream",
     "text": [
      "InvoiceID      0\n",
      "StockCode      0\n",
      "Description    0\n",
      "Quantity       0\n",
      "InvoiceDate    0\n",
      "UnitPrice      0\n",
      "CustomerID     0\n",
      "Country        0\n",
      "dtype: int64\n"
     ]
    }
   ],
   "source": [
    "print (OnlineRetail1_df.isnull().sum()) \n"
   ]
  },
  {
   "cell_type": "code",
   "execution_count": 8,
   "id": "590ce296-c0fa-49cb-88bc-79905099fd36",
   "metadata": {},
   "outputs": [
    {
     "data": {
      "text/plain": [
       "np.int64(23)"
      ]
     },
     "execution_count": 8,
     "metadata": {},
     "output_type": "execute_result"
    }
   ],
   "source": [
    "duplicate_rows=OnlineRetail1_df.duplicated()\n",
    "OnlineRetail1_df.duplicated().sum() \n"
   ]
  },
  {
   "cell_type": "code",
   "execution_count": 9,
   "id": "618e52bd-1170-4a61-81c4-b7e7ea28db9b",
   "metadata": {},
   "outputs": [],
   "source": [
    "OnlineRetail1_df =OnlineRetail1_df.drop_duplicates()\n"
   ]
  },
  {
   "cell_type": "code",
   "execution_count": 10,
   "id": "98f1a26b-b962-4344-8937-1b15b83b635d",
   "metadata": {},
   "outputs": [
    {
     "data": {
      "text/plain": [
       "np.int64(0)"
      ]
     },
     "execution_count": 10,
     "metadata": {},
     "output_type": "execute_result"
    }
   ],
   "source": [
    "duplicate_rows=OnlineRetail1_df.duplicated()\n",
    "OnlineRetail1_df.duplicated().sum() \n"
   ]
  },
  {
   "cell_type": "code",
   "execution_count": 11,
   "id": "3f04ea77-4991-423e-bc82-5ffcef8bda78",
   "metadata": {},
   "outputs": [
    {
     "data": {
      "text/plain": [
       "Index(['InvoiceID', 'StockCode', 'Description', 'Quantity', 'InvoiceDate',\n",
       "       'UnitPrice', 'CustomerID', 'Country'],\n",
       "      dtype='object')"
      ]
     },
     "execution_count": 11,
     "metadata": {},
     "output_type": "execute_result"
    }
   ],
   "source": [
    "OnlineRetail1_df.columns\n"
   ]
  },
  {
   "cell_type": "code",
   "execution_count": 12,
   "id": "47ada21b-921b-4303-86b1-229b27ef0c3f",
   "metadata": {},
   "outputs": [
    {
     "name": "stdout",
     "output_type": "stream",
     "text": [
      "InvoiceID       object\n",
      "StockCode       object\n",
      "Description     object\n",
      "Quantity         int64\n",
      "InvoiceDate     object\n",
      "UnitPrice      float64\n",
      "CustomerID     float64\n",
      "Country         object\n",
      "dtype: object\n"
     ]
    }
   ],
   "source": [
    "print(OnlineRetail1_df.dtypes)\n"
   ]
  },
  {
   "cell_type": "code",
   "execution_count": 13,
   "id": "9fc7d9a0-39a7-455f-a4ad-e25f90ac2905",
   "metadata": {},
   "outputs": [
    {
     "name": "stdout",
     "output_type": "stream",
     "text": [
      "Index(['InvoiceID', 'Description', 'Quantity', 'InvoiceDate', 'UnitPrice',\n",
      "       'Country'],\n",
      "      dtype='object')\n"
     ]
    }
   ],
   "source": [
    "# Remove 'StockCode' and 'CustomerID' columns\n",
    "OnlineRetail2_df = OnlineRetail1_df.drop(columns=['StockCode', 'CustomerID'])\n",
    "\n",
    "# Verification\n",
    "print(OnlineRetail2_df.columns)"
   ]
  },
  {
   "cell_type": "code",
   "execution_count": 14,
   "id": "79b32d88-0df1-4d4d-99a2-756bb7e16da6",
   "metadata": {},
   "outputs": [
    {
     "name": "stdout",
     "output_type": "stream",
     "text": [
      "int8\n"
     ]
    }
   ],
   "source": [
    "# Convert 'InvoiceID' to categorical codes (numerical)\n",
    "OnlineRetail2_df['InvoiceID'] = OnlineRetail2_df['InvoiceID'].astype('category').cat.codes\n",
    "\n",
    "# Verify the conversion\n",
    "print(OnlineRetail2_df['InvoiceID'].dtype)"
   ]
  },
  {
   "cell_type": "code",
   "execution_count": 15,
   "id": "033af404-2b1f-436a-9a15-b4a59ace764b",
   "metadata": {},
   "outputs": [
    {
     "name": "stdout",
     "output_type": "stream",
     "text": [
      "datetime64[ns]\n"
     ]
    }
   ],
   "source": [
    "# Convert 'InvoiceDate' to datetime format\n",
    "\n",
    "OnlineRetail2_df['InvoiceDate'] = pd.to_datetime(OnlineRetail2_df['InvoiceDate'], format='%d/%m/%Y', errors='coerce')\n",
    "\n",
    "# Verify the conversion\n",
    "print(OnlineRetail2_df['InvoiceDate'].dtype)\n",
    "\n",
    "\n"
   ]
  },
  {
   "cell_type": "code",
   "execution_count": 16,
   "id": "3455c3ee-b39a-4edb-a106-19e3d173ee80",
   "metadata": {},
   "outputs": [
    {
     "name": "stdout",
     "output_type": "stream",
     "text": [
      "InvoiceID                int8\n",
      "Description            object\n",
      "Quantity                int64\n",
      "InvoiceDate    datetime64[ns]\n",
      "UnitPrice             float64\n",
      "Country                object\n",
      "dtype: object\n"
     ]
    }
   ],
   "source": [
    "print(OnlineRetail2_df.dtypes)\n"
   ]
  },
  {
   "cell_type": "code",
   "execution_count": 17,
   "id": "6de6274d-df7e-488e-95ab-471654b438cf",
   "metadata": {},
   "outputs": [
    {
     "data": {
      "text/html": [
       "<div>\n",
       "<style scoped>\n",
       "    .dataframe tbody tr th:only-of-type {\n",
       "        vertical-align: middle;\n",
       "    }\n",
       "\n",
       "    .dataframe tbody tr th {\n",
       "        vertical-align: top;\n",
       "    }\n",
       "\n",
       "    .dataframe thead th {\n",
       "        text-align: right;\n",
       "    }\n",
       "</style>\n",
       "<table border=\"1\" class=\"dataframe\">\n",
       "  <thead>\n",
       "    <tr style=\"text-align: right;\">\n",
       "      <th></th>\n",
       "      <th>InvoiceID</th>\n",
       "      <th>Country</th>\n",
       "      <th>Description</th>\n",
       "      <th>UnitPrice</th>\n",
       "      <th>Quantity</th>\n",
       "      <th>Tax 5%</th>\n",
       "      <th>InvoiceDate</th>\n",
       "      <th>Payment</th>\n",
       "    </tr>\n",
       "  </thead>\n",
       "  <tbody>\n",
       "    <tr>\n",
       "      <th>0</th>\n",
       "      <td>750-67-8428</td>\n",
       "      <td>Yangon</td>\n",
       "      <td>Health and beauty</td>\n",
       "      <td>74.69</td>\n",
       "      <td>7</td>\n",
       "      <td>26.1415</td>\n",
       "      <td>1/05/2019</td>\n",
       "      <td>Ewallet</td>\n",
       "    </tr>\n",
       "    <tr>\n",
       "      <th>1</th>\n",
       "      <td>226-31-3081</td>\n",
       "      <td>Naypyitaw</td>\n",
       "      <td>Electronic accessories</td>\n",
       "      <td>15.28</td>\n",
       "      <td>5</td>\n",
       "      <td>3.8200</td>\n",
       "      <td>3/08/2019</td>\n",
       "      <td>Cash</td>\n",
       "    </tr>\n",
       "    <tr>\n",
       "      <th>2</th>\n",
       "      <td>631-41-3108</td>\n",
       "      <td>Yangon</td>\n",
       "      <td>Home and lifestyle</td>\n",
       "      <td>46.33</td>\n",
       "      <td>7</td>\n",
       "      <td>16.2155</td>\n",
       "      <td>3/03/2019</td>\n",
       "      <td>Credit card</td>\n",
       "    </tr>\n",
       "    <tr>\n",
       "      <th>3</th>\n",
       "      <td>123-19-1176</td>\n",
       "      <td>Yangon</td>\n",
       "      <td>Health and beauty</td>\n",
       "      <td>58.22</td>\n",
       "      <td>8</td>\n",
       "      <td>23.2880</td>\n",
       "      <td>1/27/2019</td>\n",
       "      <td>Ewallet</td>\n",
       "    </tr>\n",
       "    <tr>\n",
       "      <th>4</th>\n",
       "      <td>373-73-7910</td>\n",
       "      <td>Yangon</td>\n",
       "      <td>Sports and travel</td>\n",
       "      <td>86.31</td>\n",
       "      <td>7</td>\n",
       "      <td>30.2085</td>\n",
       "      <td>2/08/2019</td>\n",
       "      <td>Ewallet</td>\n",
       "    </tr>\n",
       "  </tbody>\n",
       "</table>\n",
       "</div>"
      ],
      "text/plain": [
       "     InvoiceID    Country             Description  UnitPrice  Quantity  \\\n",
       "0  750-67-8428     Yangon       Health and beauty      74.69         7   \n",
       "1  226-31-3081  Naypyitaw  Electronic accessories      15.28         5   \n",
       "2  631-41-3108     Yangon      Home and lifestyle      46.33         7   \n",
       "3  123-19-1176     Yangon       Health and beauty      58.22         8   \n",
       "4  373-73-7910     Yangon       Sports and travel      86.31         7   \n",
       "\n",
       "    Tax 5% InvoiceDate      Payment  \n",
       "0  26.1415   1/05/2019      Ewallet  \n",
       "1   3.8200   3/08/2019         Cash  \n",
       "2  16.2155   3/03/2019  Credit card  \n",
       "3  23.2880   1/27/2019      Ewallet  \n",
       "4  30.2085   2/08/2019      Ewallet  "
      ]
     },
     "execution_count": 17,
     "metadata": {},
     "output_type": "execute_result"
    }
   ],
   "source": [
    "# Read StoreSales.csv\n",
    "\n",
    "StoreSales_df = pd.read_csv('StoreSales.csv')\n",
    "StoreSales_df.head()\n"
   ]
  },
  {
   "cell_type": "code",
   "execution_count": 18,
   "id": "fe6e49a1-d66e-4d78-8203-0d5891a38a19",
   "metadata": {},
   "outputs": [
    {
     "data": {
      "text/plain": [
       "(1000, 8)"
      ]
     },
     "execution_count": 18,
     "metadata": {},
     "output_type": "execute_result"
    }
   ],
   "source": [
    "StoreSales_df.shape\n"
   ]
  },
  {
   "cell_type": "code",
   "execution_count": 19,
   "id": "3d0ab973-bb5d-4935-b832-f074b551aa7f",
   "metadata": {},
   "outputs": [
    {
     "data": {
      "text/plain": [
       "Index(['InvoiceID', 'Country', 'Description', 'UnitPrice', 'Quantity',\n",
       "       'Tax 5%', 'InvoiceDate', 'Payment'],\n",
       "      dtype='object')"
      ]
     },
     "execution_count": 19,
     "metadata": {},
     "output_type": "execute_result"
    }
   ],
   "source": [
    "StoreSales_df.columns\n"
   ]
  },
  {
   "cell_type": "code",
   "execution_count": 20,
   "id": "2f1f8f1c-eda5-4035-aab0-d84149264de3",
   "metadata": {},
   "outputs": [
    {
     "name": "stdout",
     "output_type": "stream",
     "text": [
      "InvoiceID      0\n",
      "Country        0\n",
      "Description    0\n",
      "UnitPrice      0\n",
      "Quantity       0\n",
      "Tax 5%         0\n",
      "InvoiceDate    0\n",
      "Payment        0\n",
      "dtype: int64\n"
     ]
    }
   ],
   "source": [
    "print (StoreSales_df.isnull().sum()) \n"
   ]
  },
  {
   "cell_type": "code",
   "execution_count": 21,
   "id": "ff87248a-7f64-4849-bf8e-a0f032e4dd0e",
   "metadata": {},
   "outputs": [
    {
     "data": {
      "text/plain": [
       "np.int64(0)"
      ]
     },
     "execution_count": 21,
     "metadata": {},
     "output_type": "execute_result"
    }
   ],
   "source": [
    "duplicate_rows=StoreSales_df.duplicated()\n",
    "StoreSales_df.duplicated().sum()\n"
   ]
  },
  {
   "cell_type": "code",
   "execution_count": 22,
   "id": "79e16218-7990-4d1a-b183-86cfaff04f1d",
   "metadata": {},
   "outputs": [
    {
     "data": {
      "text/plain": [
       "InvoiceID       object\n",
       "Country         object\n",
       "Description     object\n",
       "UnitPrice      float64\n",
       "Quantity         int64\n",
       "Tax 5%         float64\n",
       "InvoiceDate     object\n",
       "Payment         object\n",
       "dtype: object"
      ]
     },
     "execution_count": 22,
     "metadata": {},
     "output_type": "execute_result"
    }
   ],
   "source": [
    "StoreSales_df.dtypes\n"
   ]
  },
  {
   "cell_type": "code",
   "execution_count": 23,
   "id": "09396c98-7889-48f4-8e9d-709a0ef28ef1",
   "metadata": {},
   "outputs": [
    {
     "name": "stdout",
     "output_type": "stream",
     "text": [
      "Index(['InvoiceID', 'Country', 'Description', 'UnitPrice', 'Quantity',\n",
      "       'InvoiceDate'],\n",
      "      dtype='object')\n"
     ]
    }
   ],
   "source": [
    "# Remove 'Tax 5%', and 'Payment' columns\n",
    "StoreSales2_df = StoreSales_df.drop(columns=['Tax 5%', 'Payment'])\n",
    "\n",
    "# Verification\n",
    "print(StoreSales2_df.columns)\n"
   ]
  },
  {
   "cell_type": "code",
   "execution_count": 24,
   "id": "5c070f81-89b7-49db-bc07-4e8de1fc1428",
   "metadata": {},
   "outputs": [
    {
     "name": "stdout",
     "output_type": "stream",
     "text": [
      "int16\n"
     ]
    }
   ],
   "source": [
    "# Convert 'InvoiceID' to categorical codes (numerical)\n",
    "StoreSales2_df['InvoiceID'] = StoreSales2_df['InvoiceID'].astype('category').cat.codes\n",
    "\n",
    "# Verify the conversion\n",
    "print(StoreSales2_df['InvoiceID'].dtype)"
   ]
  },
  {
   "cell_type": "code",
   "execution_count": 25,
   "id": "aef77616-3331-4463-b212-92c1191eed22",
   "metadata": {},
   "outputs": [
    {
     "name": "stdout",
     "output_type": "stream",
     "text": [
      "datetime64[ns]\n"
     ]
    }
   ],
   "source": [
    "## Convert 'InvoiceDate' to datetime format\n",
    "StoreSales2_df['InvoiceDate'] = pd.to_datetime(StoreSales2_df['InvoiceDate'], format='%d/%m/%Y', errors='coerce')\n",
    "\n",
    "# Verify the conversion\n",
    "print(StoreSales2_df['InvoiceDate'].dtype)\n"
   ]
  },
  {
   "cell_type": "code",
   "execution_count": 26,
   "id": "ef1be8ff-7709-4fd0-9f31-bea6a70f0334",
   "metadata": {},
   "outputs": [
    {
     "name": "stdout",
     "output_type": "stream",
     "text": [
      "InvoiceID               int16\n",
      "Country                object\n",
      "Description            object\n",
      "UnitPrice             float64\n",
      "Quantity                int64\n",
      "InvoiceDate    datetime64[ns]\n",
      "dtype: object\n"
     ]
    }
   ],
   "source": [
    "print(StoreSales2_df.dtypes)\n"
   ]
  },
  {
   "cell_type": "code",
   "execution_count": 27,
   "id": "479b17a7-abef-464e-a3ee-c3892d142487",
   "metadata": {},
   "outputs": [],
   "source": [
    "StoreSales2_df = StoreSales2_df.rename_axis(index={'InvoiceID': 'InvoiceID'})\n",
    "StoreSales2_df = StoreSales2_df.rename_axis(index={'Country': 'Country'})\n",
    "StoreSales2_df = StoreSales2_df.rename_axis(index={'Description': 'Description'})\n",
    "StoreSales2_df = StoreSales2_df.rename_axis(index={'UnitPrice': 'UnitPrice'})\n",
    "StoreSales2_df = StoreSales2_df.rename_axis(index={'Quantity': 'Quantity'})\n",
    "StoreSales2_df = StoreSales2_df.rename_axis(index={'Quantity': 'Quantity'})\n",
    "StoreSales2_df = StoreSales2_df.rename_axis(index={'InvoiceDate': 'InvoiceDate'})"
   ]
  },
  {
   "cell_type": "code",
   "execution_count": 28,
   "id": "5a281bb8-83e1-43cc-a025-5d738e9f8a1d",
   "metadata": {},
   "outputs": [
    {
     "name": "stdout",
     "output_type": "stream",
     "text": [
      "Original columns:\n",
      "Index(['InvoiceID', 'Country', 'Description', 'UnitPrice', 'Quantity',\n",
      "       'InvoiceDate'],\n",
      "      dtype='object')\n"
     ]
    }
   ],
   "source": [
    "# Print the original columns\n",
    "print(\"Original columns:\")\n",
    "print(StoreSales2_df.columns)\n",
    "\n",
    "\n"
   ]
  },
  {
   "cell_type": "code",
   "execution_count": 29,
   "id": "48275d6b-2689-4eee-921e-1b230e4875da",
   "metadata": {},
   "outputs": [
    {
     "name": "stdout",
     "output_type": "stream",
     "text": [
      "\n",
      "Reordered columns:\n",
      "Index(['InvoiceID', 'Description', 'Quantity', 'InvoiceDate', 'UnitPrice',\n",
      "       'Country'],\n",
      "      dtype='object')\n"
     ]
    }
   ],
   "source": [
    "# Define the new order of columns\n",
    "new_order = ['InvoiceID', 'Description', 'Quantity', 'InvoiceDate', 'UnitPrice', 'Country']\n",
    "\n",
    "# Reorder columns\n",
    "StoreSales2_df = StoreSales2_df[new_order]\n",
    "\n",
    "# Print the reordered columns\n",
    "print(\"\\nReordered columns:\")\n",
    "print(StoreSales2_df.columns)\n",
    "\n",
    "\n"
   ]
  },
  {
   "cell_type": "code",
   "execution_count": 30,
   "id": "79960a61-6e5b-422f-b4b1-addffa8d6236",
   "metadata": {},
   "outputs": [
    {
     "data": {
      "text/plain": [
       "Index(['InvoiceID', 'Description', 'Quantity', 'InvoiceDate', 'UnitPrice',\n",
       "       'Country'],\n",
       "      dtype='object')"
      ]
     },
     "execution_count": 30,
     "metadata": {},
     "output_type": "execute_result"
    }
   ],
   "source": [
    "OnlineRetail2_df.columns\n"
   ]
  },
  {
   "cell_type": "code",
   "execution_count": 31,
   "id": "2775022f-a63e-494a-9fe9-9f41834e0bf5",
   "metadata": {},
   "outputs": [
    {
     "name": "stdout",
     "output_type": "stream",
     "text": [
      "InvoiceID               int16\n",
      "Description            object\n",
      "Quantity                int64\n",
      "InvoiceDate    datetime64[ns]\n",
      "UnitPrice             float64\n",
      "Country                object\n",
      "dtype: object\n",
      "InvoiceID                int8\n",
      "Description            object\n",
      "Quantity                int64\n",
      "InvoiceDate    datetime64[ns]\n",
      "UnitPrice             float64\n",
      "Country                object\n",
      "dtype: object\n"
     ]
    }
   ],
   "source": [
    "print(StoreSales2_df.dtypes)\n",
    "print(OnlineRetail2_df.dtypes)\n",
    "\n"
   ]
  },
  {
   "cell_type": "code",
   "execution_count": 32,
   "id": "0856a975-1d76-425a-a542-97bab3fad261",
   "metadata": {},
   "outputs": [
    {
     "name": "stdout",
     "output_type": "stream",
     "text": [
      "InvoiceID               int64\n",
      "Description            object\n",
      "Quantity                int64\n",
      "InvoiceDate    datetime64[ns]\n",
      "UnitPrice             float64\n",
      "Country                object\n",
      "dtype: object\n",
      "InvoiceID               int64\n",
      "Description            object\n",
      "Quantity                int64\n",
      "InvoiceDate    datetime64[ns]\n",
      "UnitPrice             float64\n",
      "Country                object\n",
      "dtype: object\n"
     ]
    }
   ],
   "source": [
    "StoreSales2_df['InvoiceID'] = StoreSales2_df['InvoiceID'].astype('int64')\n",
    "OnlineRetail2_df['InvoiceID'] = OnlineRetail2_df['InvoiceID'].astype('int64')\n",
    "\n",
    "print(StoreSales2_df.dtypes)\n",
    "print(OnlineRetail2_df.dtypes)\n",
    "\n"
   ]
  },
  {
   "cell_type": "code",
   "execution_count": 33,
   "id": "954bc300-18d0-4369-b360-a2d2ccfa8303",
   "metadata": {},
   "outputs": [
    {
     "data": {
      "text/plain": [
       "Index(['InvoiceID', 'Description', 'Quantity', 'InvoiceDate', 'UnitPrice',\n",
       "       'Country'],\n",
       "      dtype='object')"
      ]
     },
     "execution_count": 33,
     "metadata": {},
     "output_type": "execute_result"
    }
   ],
   "source": [
    "OnlineRetail2_df.columns\n",
    "\n"
   ]
  },
  {
   "cell_type": "code",
   "execution_count": 34,
   "id": "cabcb447-79ca-4507-a620-e1010007b81c",
   "metadata": {},
   "outputs": [
    {
     "data": {
      "text/plain": [
       "Index(['InvoiceID', 'Description', 'Quantity', 'InvoiceDate', 'UnitPrice',\n",
       "       'Country'],\n",
       "      dtype='object')"
      ]
     },
     "execution_count": 34,
     "metadata": {},
     "output_type": "execute_result"
    }
   ],
   "source": [
    "StoreSales2_df.columns\n",
    "\n"
   ]
  },
  {
   "cell_type": "code",
   "execution_count": 35,
   "id": "9ebf650a-15e7-4dc8-bba8-0d2fb370a231",
   "metadata": {},
   "outputs": [
    {
     "data": {
      "text/plain": [
       "(1000, 6)"
      ]
     },
     "execution_count": 35,
     "metadata": {},
     "output_type": "execute_result"
    }
   ],
   "source": [
    "StoreSales2_df.shape\n"
   ]
  },
  {
   "cell_type": "code",
   "execution_count": 36,
   "id": "b26db78a-afe8-40ba-9914-a9575711516b",
   "metadata": {},
   "outputs": [
    {
     "data": {
      "text/plain": [
       "(1015, 6)"
      ]
     },
     "execution_count": 36,
     "metadata": {},
     "output_type": "execute_result"
    }
   ],
   "source": [
    "OnlineRetail2_df.shape"
   ]
  },
  {
   "cell_type": "code",
   "execution_count": 37,
   "id": "49a54f58-f4b7-4e6b-b93b-cc50246a5e51",
   "metadata": {},
   "outputs": [
    {
     "data": {
      "text/plain": [
       "(1000, 6)"
      ]
     },
     "execution_count": 37,
     "metadata": {},
     "output_type": "execute_result"
    }
   ],
   "source": [
    "# Remove the last 15 rows\n",
    "OnlineRetail2_df = OnlineRetail2_df[:-15]\n",
    "OnlineRetail2_df.shape"
   ]
  },
  {
   "cell_type": "code",
   "execution_count": 38,
   "id": "0a72e3f6-0e2c-4fdf-879e-358edd527d25",
   "metadata": {},
   "outputs": [],
   "source": [
    "common_columns = ['InvoiceID', 'Description', 'Quantity', 'InvoiceDate', 'UnitPrice',\n",
    "       'Country']\n",
    "OnlineRetail2_df = OnlineRetail2_df[common_columns]\n",
    "StoreSales2_df = StoreSales2_df [common_columns]\n"
   ]
  },
  {
   "cell_type": "code",
   "execution_count": 39,
   "id": "05f6ded7-5941-4856-89b4-87e67f6fa5df",
   "metadata": {},
   "outputs": [
    {
     "data": {
      "text/html": [
       "<div>\n",
       "<style scoped>\n",
       "    .dataframe tbody tr th:only-of-type {\n",
       "        vertical-align: middle;\n",
       "    }\n",
       "\n",
       "    .dataframe tbody tr th {\n",
       "        vertical-align: top;\n",
       "    }\n",
       "\n",
       "    .dataframe thead th {\n",
       "        text-align: right;\n",
       "    }\n",
       "</style>\n",
       "<table border=\"1\" class=\"dataframe\">\n",
       "  <thead>\n",
       "    <tr style=\"text-align: right;\">\n",
       "      <th></th>\n",
       "      <th>InvoiceID</th>\n",
       "      <th>Description</th>\n",
       "      <th>Quantity</th>\n",
       "      <th>InvoiceDate</th>\n",
       "      <th>UnitPrice</th>\n",
       "      <th>Country</th>\n",
       "    </tr>\n",
       "  </thead>\n",
       "  <tbody>\n",
       "    <tr>\n",
       "      <th>0</th>\n",
       "      <td>814</td>\n",
       "      <td>Health and beauty</td>\n",
       "      <td>7</td>\n",
       "      <td>2019-05-01</td>\n",
       "      <td>74.69</td>\n",
       "      <td>Yangon</td>\n",
       "    </tr>\n",
       "    <tr>\n",
       "      <th>1</th>\n",
       "      <td>142</td>\n",
       "      <td>Electronic accessories</td>\n",
       "      <td>5</td>\n",
       "      <td>2019-08-03</td>\n",
       "      <td>15.28</td>\n",
       "      <td>Naypyitaw</td>\n",
       "    </tr>\n",
       "    <tr>\n",
       "      <th>2</th>\n",
       "      <td>653</td>\n",
       "      <td>Home and lifestyle</td>\n",
       "      <td>7</td>\n",
       "      <td>2019-03-03</td>\n",
       "      <td>46.33</td>\n",
       "      <td>Yangon</td>\n",
       "    </tr>\n",
       "    <tr>\n",
       "      <th>3</th>\n",
       "      <td>18</td>\n",
       "      <td>Health and beauty</td>\n",
       "      <td>8</td>\n",
       "      <td>NaT</td>\n",
       "      <td>58.22</td>\n",
       "      <td>Yangon</td>\n",
       "    </tr>\n",
       "    <tr>\n",
       "      <th>4</th>\n",
       "      <td>339</td>\n",
       "      <td>Sports and travel</td>\n",
       "      <td>7</td>\n",
       "      <td>2019-08-02</td>\n",
       "      <td>86.31</td>\n",
       "      <td>Yangon</td>\n",
       "    </tr>\n",
       "  </tbody>\n",
       "</table>\n",
       "</div>"
      ],
      "text/plain": [
       "   InvoiceID             Description  Quantity InvoiceDate  UnitPrice  \\\n",
       "0        814       Health and beauty         7  2019-05-01      74.69   \n",
       "1        142  Electronic accessories         5  2019-08-03      15.28   \n",
       "2        653      Home and lifestyle         7  2019-03-03      46.33   \n",
       "3         18       Health and beauty         8         NaT      58.22   \n",
       "4        339       Sports and travel         7  2019-08-02      86.31   \n",
       "\n",
       "     Country  \n",
       "0     Yangon  \n",
       "1  Naypyitaw  \n",
       "2     Yangon  \n",
       "3     Yangon  \n",
       "4     Yangon  "
      ]
     },
     "execution_count": 39,
     "metadata": {},
     "output_type": "execute_result"
    }
   ],
   "source": [
    "StoreSales2_df.head()\n"
   ]
  },
  {
   "cell_type": "code",
   "execution_count": 40,
   "id": "d4302870-f158-4edf-9ffc-0dd74343c106",
   "metadata": {},
   "outputs": [
    {
     "data": {
      "text/html": [
       "<div>\n",
       "<style scoped>\n",
       "    .dataframe tbody tr th:only-of-type {\n",
       "        vertical-align: middle;\n",
       "    }\n",
       "\n",
       "    .dataframe tbody tr th {\n",
       "        vertical-align: top;\n",
       "    }\n",
       "\n",
       "    .dataframe thead th {\n",
       "        text-align: right;\n",
       "    }\n",
       "</style>\n",
       "<table border=\"1\" class=\"dataframe\">\n",
       "  <thead>\n",
       "    <tr style=\"text-align: right;\">\n",
       "      <th></th>\n",
       "      <th>InvoiceID</th>\n",
       "      <th>Description</th>\n",
       "      <th>Quantity</th>\n",
       "      <th>InvoiceDate</th>\n",
       "      <th>UnitPrice</th>\n",
       "      <th>Country</th>\n",
       "    </tr>\n",
       "  </thead>\n",
       "  <tbody>\n",
       "    <tr>\n",
       "      <th>0</th>\n",
       "      <td>0</td>\n",
       "      <td>WHITE HANGING HEART T-LIGHT HOLDER</td>\n",
       "      <td>6</td>\n",
       "      <td>NaT</td>\n",
       "      <td>2.55</td>\n",
       "      <td>United Kingdom</td>\n",
       "    </tr>\n",
       "    <tr>\n",
       "      <th>1</th>\n",
       "      <td>0</td>\n",
       "      <td>WHITE METAL LANTERN</td>\n",
       "      <td>6</td>\n",
       "      <td>NaT</td>\n",
       "      <td>3.39</td>\n",
       "      <td>United Kingdom</td>\n",
       "    </tr>\n",
       "    <tr>\n",
       "      <th>2</th>\n",
       "      <td>0</td>\n",
       "      <td>CREAM CUPID HEARTS COAT HANGER</td>\n",
       "      <td>8</td>\n",
       "      <td>NaT</td>\n",
       "      <td>2.75</td>\n",
       "      <td>United Kingdom</td>\n",
       "    </tr>\n",
       "    <tr>\n",
       "      <th>3</th>\n",
       "      <td>0</td>\n",
       "      <td>KNITTED UNION FLAG HOT WATER BOTTLE</td>\n",
       "      <td>6</td>\n",
       "      <td>NaT</td>\n",
       "      <td>3.39</td>\n",
       "      <td>United Kingdom</td>\n",
       "    </tr>\n",
       "    <tr>\n",
       "      <th>4</th>\n",
       "      <td>0</td>\n",
       "      <td>RED WOOLLY HOTTIE WHITE HEART.</td>\n",
       "      <td>6</td>\n",
       "      <td>NaT</td>\n",
       "      <td>3.39</td>\n",
       "      <td>United Kingdom</td>\n",
       "    </tr>\n",
       "  </tbody>\n",
       "</table>\n",
       "</div>"
      ],
      "text/plain": [
       "   InvoiceID                          Description  Quantity InvoiceDate  \\\n",
       "0          0   WHITE HANGING HEART T-LIGHT HOLDER         6         NaT   \n",
       "1          0                  WHITE METAL LANTERN         6         NaT   \n",
       "2          0       CREAM CUPID HEARTS COAT HANGER         8         NaT   \n",
       "3          0  KNITTED UNION FLAG HOT WATER BOTTLE         6         NaT   \n",
       "4          0       RED WOOLLY HOTTIE WHITE HEART.         6         NaT   \n",
       "\n",
       "   UnitPrice         Country  \n",
       "0       2.55  United Kingdom  \n",
       "1       3.39  United Kingdom  \n",
       "2       2.75  United Kingdom  \n",
       "3       3.39  United Kingdom  \n",
       "4       3.39  United Kingdom  "
      ]
     },
     "execution_count": 40,
     "metadata": {},
     "output_type": "execute_result"
    }
   ],
   "source": [
    "OnlineRetail2_df.head()\n"
   ]
  },
  {
   "cell_type": "code",
   "execution_count": 41,
   "id": "f62efac3-b8d5-4b95-b8b6-9380f0d32484",
   "metadata": {},
   "outputs": [
    {
     "name": "stdout",
     "output_type": "stream",
     "text": [
      "InvoiceID         0\n",
      "Description       0\n",
      "Quantity          0\n",
      "InvoiceDate    1000\n",
      "UnitPrice         0\n",
      "Country           0\n",
      "dtype: int64\n"
     ]
    }
   ],
   "source": [
    "print (OnlineRetail2_df.isnull().sum()) \n"
   ]
  },
  {
   "cell_type": "code",
   "execution_count": 42,
   "id": "33e8f50e-69bb-4408-b204-134859874c2e",
   "metadata": {},
   "outputs": [
    {
     "name": "stdout",
     "output_type": "stream",
     "text": [
      "Index(['InvoiceID', 'Description', 'Quantity', 'UnitPrice', 'Country'], dtype='object')\n"
     ]
    }
   ],
   "source": [
    "# Remove InvoiceDate\n",
    "OnlineRetail2_df = OnlineRetail2_df.drop(columns=['InvoiceDate'])\n",
    "\n",
    "# Verification\n",
    "print(OnlineRetail2_df.columns)\n"
   ]
  },
  {
   "cell_type": "code",
   "execution_count": 43,
   "id": "0acb5bc4-0d9e-4935-82f4-9709afaa8a3a",
   "metadata": {},
   "outputs": [
    {
     "name": "stdout",
     "output_type": "stream",
     "text": [
      "InvoiceID        0\n",
      "Description      0\n",
      "Quantity         0\n",
      "InvoiceDate    587\n",
      "UnitPrice        0\n",
      "Country          0\n",
      "dtype: int64\n"
     ]
    }
   ],
   "source": [
    "print (StoreSales2_df.isnull().sum()) \n"
   ]
  },
  {
   "cell_type": "code",
   "execution_count": 44,
   "id": "eaa9284e-20f7-4138-95da-4ca68e06ad57",
   "metadata": {},
   "outputs": [
    {
     "name": "stdout",
     "output_type": "stream",
     "text": [
      "Index(['InvoiceID', 'Description', 'Quantity', 'UnitPrice', 'Country'], dtype='object')\n"
     ]
    }
   ],
   "source": [
    "# Remove InvoiceDate\n",
    "StoreSales2_df = StoreSales2_df.drop(columns=['InvoiceDate'])\n",
    "\n",
    "# Verification\n",
    "print(StoreSales2_df.columns)\n",
    "\n"
   ]
  },
  {
   "cell_type": "code",
   "execution_count": 45,
   "id": "a991b834-8fdb-4f9d-8693-0475830b1b9c",
   "metadata": {},
   "outputs": [],
   "source": [
    "StoreSales2_df.to_csv('StoreSales2_df.csv', index=False)\n"
   ]
  },
  {
   "cell_type": "code",
   "execution_count": 46,
   "id": "3bf5f937-b973-4422-893c-ae668989c057",
   "metadata": {},
   "outputs": [],
   "source": [
    "OnlineRetail2_df.to_csv('OnlineRetail2_df.csv', index=False)\n"
   ]
  },
  {
   "cell_type": "code",
   "execution_count": 47,
   "id": "8828b04f-9cf1-42fc-947e-ae87fc881e77",
   "metadata": {},
   "outputs": [
    {
     "name": "stdout",
     "output_type": "stream",
     "text": [
      "      InvoiceID                         Description  Quantity  UnitPrice  \\\n",
      "0           814                   Health and beauty         7      74.69   \n",
      "1           142              Electronic accessories         5      15.28   \n",
      "2           653                  Home and lifestyle         7      46.33   \n",
      "3            18                   Health and beauty         8      58.22   \n",
      "4           339                   Sports and travel         7      86.31   \n",
      "...         ...                                 ...       ...        ...   \n",
      "1995         62                    BLUE PARTY BAGS          1       2.10   \n",
      "1996         62   FELTCRAFT PRINCESS CHARLOTTE DOLL         1       3.75   \n",
      "1997         62  PINK CREAM FELT CRAFT TRINKET BOX          1       1.25   \n",
      "1998         62         FELTCRAFT CUSHION BUTTERFLY         1       3.75   \n",
      "1999         62     RED RETROSPOT OVEN GLOVE DOUBLE         1       2.95   \n",
      "\n",
      "             Country  \n",
      "0             Yangon  \n",
      "1          Naypyitaw  \n",
      "2             Yangon  \n",
      "3             Yangon  \n",
      "4             Yangon  \n",
      "...              ...  \n",
      "1995  United Kingdom  \n",
      "1996  United Kingdom  \n",
      "1997  United Kingdom  \n",
      "1998  United Kingdom  \n",
      "1999  United Kingdom  \n",
      "\n",
      "[2000 rows x 5 columns]\n"
     ]
    }
   ],
   "source": [
    "# Concatenate DataFrames to stack rows\n",
    "unified_df = pd.concat([StoreSales2_df, OnlineRetail2_df], ignore_index=True)\n",
    "\n",
    "print(unified_df)\n"
   ]
  },
  {
   "cell_type": "code",
   "execution_count": 48,
   "id": "58139613-6d81-453d-9ba5-1e235271f855",
   "metadata": {},
   "outputs": [],
   "source": [
    "unified_df.to_csv('unified.csv', index=False)\n"
   ]
  },
  {
   "cell_type": "code",
   "execution_count": 49,
   "id": "9c35e87a-b1f5-4725-8c6e-21101010b5da",
   "metadata": {},
   "outputs": [
    {
     "data": {
      "text/plain": [
       "Index(['InvoiceID', 'Description', 'Quantity', 'UnitPrice', 'Country'], dtype='object')"
      ]
     },
     "execution_count": 49,
     "metadata": {},
     "output_type": "execute_result"
    }
   ],
   "source": [
    "unified_df.columns\n"
   ]
  },
  {
   "cell_type": "code",
   "execution_count": 50,
   "id": "55332fb8-9b82-44dd-af23-d51c20d66d07",
   "metadata": {},
   "outputs": [
    {
     "name": "stdout",
     "output_type": "stream",
     "text": [
      "Requirement already satisfied: pandas in c:\\users\\johan\\appdata\\local\\programs\\python\\python312\\lib\\site-packages (2.2.2)\n",
      "Requirement already satisfied: numpy in c:\\users\\johan\\appdata\\local\\programs\\python\\python312\\lib\\site-packages (2.0.1)\n",
      "Requirement already satisfied: python-dateutil>=2.8.2 in c:\\users\\johan\\appdata\\local\\programs\\python\\python312\\lib\\site-packages (from pandas) (2.9.0.post0)\n",
      "Requirement already satisfied: pytz>=2020.1 in c:\\users\\johan\\appdata\\local\\programs\\python\\python312\\lib\\site-packages (from pandas) (2024.1)\n",
      "Requirement already satisfied: tzdata>=2022.7 in c:\\users\\johan\\appdata\\local\\programs\\python\\python312\\lib\\site-packages (from pandas) (2024.1)\n",
      "Requirement already satisfied: six>=1.5 in c:\\users\\johan\\appdata\\local\\programs\\python\\python312\\lib\\site-packages (from python-dateutil>=2.8.2->pandas) (1.16.0)\n",
      "Note: you may need to restart the kernel to use updated packages.\n"
     ]
    },
    {
     "name": "stderr",
     "output_type": "stream",
     "text": [
      "\n",
      "[notice] A new release of pip is available: 24.0 -> 24.2\n",
      "[notice] To update, run: python.exe -m pip install --upgrade pip\n"
     ]
    }
   ],
   "source": [
    "pip install pandas numpy"
   ]
  },
  {
   "cell_type": "code",
   "execution_count": 51,
   "id": "eef34ff8-04e4-4965-ac17-2542e31a60ab",
   "metadata": {},
   "outputs": [
    {
     "name": "stdout",
     "output_type": "stream",
     "text": [
      "\n",
      "Basic statistics for each numeric column:\n",
      "         InvoiceID     Quantity    UnitPrice\n",
      "count  2000.000000  2000.000000  2000.000000\n",
      "mean    268.432000     9.122500    29.352325\n",
      "std     308.603517    27.464553    32.577498\n",
      "min       0.000000   -24.000000     0.100000\n",
      "25%      40.000000     2.000000     2.062500\n",
      "50%      60.000000     5.000000    11.670000\n",
      "75%     499.250000     9.000000    55.405000\n",
      "max     999.000000   600.000000   165.000000\n"
     ]
    }
   ],
   "source": [
    "print(\"\\nBasic statistics for each numeric column:\")\n",
    "print(unified_df.describe())\n",
    "\n"
   ]
  },
  {
   "cell_type": "code",
   "execution_count": 55,
   "id": "2181f116-04db-4dc5-a1b7-76860c9a155c",
   "metadata": {},
   "outputs": [
    {
     "data": {
      "image/png": "[encoded data removed]",
      "text/plain": [
       "<Figure size 640x480 with 1 Axes>"
      ]
     },
     "metadata": {},
     "output_type": "display_data"
    }
   ],
   "source": [
    "import matplotlib.pyplot as plt\n",
    "import seaborn as sns\n",
    "\n",
    "# Example: Histogram of a specific column\n",
    "sns.histplot(unified_df['Quantity'])\n",
    "plt.title('Histogram of Quantity')\n",
    "plt.show()"
   ]
  },
  {
   "cell_type": "code",
   "execution_count": 56,
   "id": "11f2267b-0a12-4c3f-980d-df3d5a1cceea",
   "metadata": {},
   "outputs": [
    {
     "name": "stdout",
     "output_type": "stream",
     "text": [
      "\n",
      "Total Sales Across All Transactions: $332066.45\n"
     ]
    }
   ],
   "source": [
    "# Calculate SalesTotal\n",
    "unified_df['SalesTotal'] = unified_df['Quantity'] * unified_df['UnitPrice']\n",
    "\n",
    "# Total sales across all transactions\n",
    "total_sales =unified_df['SalesTotal'].sum()\n",
    "print(\"\\nTotal Sales Across All Transactions: ${:.2f}\".format(total_sales))"
   ]
  },
  {
   "cell_type": "code",
   "execution_count": 57,
   "id": "46533413-f9d6-454e-82ab-108b3b2c113b",
   "metadata": {},
   "outputs": [
    {
     "name": "stdout",
     "output_type": "stream",
     "text": [
      "\n",
      "Sales by Product Category:\n",
      "Description\n",
      "Food and beverages                  53471.28\n",
      "Sports and travel                   52497.93\n",
      "Electronic accessories              51750.03\n",
      "Fashion accessories                 51719.90\n",
      "Home and lifestyle                  51297.06\n",
      "                                      ...   \n",
      "PACK OF 12 PINK PAISLEY TISSUES        -6.96\n",
      "PLASTERS IN TIN VINTAGE PAISLEY        -9.90\n",
      "PLASTERS IN TIN SKULLS                -18.15\n",
      "PLASTERS IN TIN CIRCUS PARADE         -19.80\n",
      "Discount                              -27.50\n",
      "Name: SalesTotal, Length: 613, dtype: float64\n"
     ]
    }
   ],
   "source": [
    "# Sales by Product Category\n",
    "sales_by_category = unified_df.groupby('Description')['SalesTotal'].sum().sort_values(ascending=False)\n",
    "print(\"\\nSales by Product Category:\")\n",
    "print(sales_by_category)"
   ]
  },
  {
   "cell_type": "code",
   "execution_count": 58,
   "id": "ef317441-e2ea-47f5-89a6-708db86dcf2b",
   "metadata": {},
   "outputs": [
    {
     "name": "stdout",
     "output_type": "stream",
     "text": [
      "\n",
      "Product categories sold by country:\n",
      "       Country                   Description  SalesTotal\n",
      "0    Australia    ALARM CLOCK BAKELIKE GREEN       15.00\n",
      "1    Australia     ALARM CLOCK BAKELIKE RED        15.00\n",
      "2    Australia  BLACK/BLUE POLKADOT UMBRELLA       17.85\n",
      "3    Australia         BLUE DINER WALL CLOCK       17.00\n",
      "4    Australia  CHRISTMAS LIGHTS 10 REINDEER       51.00\n",
      "..         ...                           ...         ...\n",
      "640     Yangon           Fashion accessories    15554.77\n",
      "641     Yangon            Food and beverages    16345.81\n",
      "642     Yangon             Health and beauty    11997.86\n",
      "643     Yangon            Home and lifestyle    21349.71\n",
      "644     Yangon             Sports and travel    18450.19\n",
      "\n",
      "[645 rows x 3 columns]\n"
     ]
    }
   ],
   "source": [
    "# Perform analysis: Product categories sold by country\n",
    "sales_by_country_category = unified_df.groupby(['Country', 'Description'])['SalesTotal'].sum().reset_index()\n",
    "print(\"\\nProduct categories sold by country:\")\n",
    "print(sales_by_country_category)"
   ]
  },
  {
   "cell_type": "code",
   "execution_count": 59,
   "id": "365dd813-a790-425a-8fa8-f9acd8d40846",
   "metadata": {},
   "outputs": [
    {
     "data": {
      "text/html": [
       "\n",
       "        <iframe\n",
       "            width=\"100%\"\n",
       "            height=\"650\"\n",
       "            src=\"http://127.0.0.1:8050/\"\n",
       "            frameborder=\"0\"\n",
       "            allowfullscreen\n",
       "            \n",
       "        ></iframe>\n",
       "        "
      ],
      "text/plain": [
       "<IPython.lib.display.IFrame at 0x205af612e10>"
      ]
     },
     "metadata": {},
     "output_type": "display_data"
    }
   ],
   "source": [
    "\n",
    "\n",
    "# Assuming 'unified_df' is defined elsewhere\n",
    "# Aggregate sales by country and product category\n",
    "sales_by_country_category = unified_df.groupby(['Country', 'Description'], as_index=False)['SalesTotal'].sum()\n",
    "\n",
    "# Initialize Dash app\n",
    "app = dash.Dash(__name__)\n",
    "\n",
    "# Define app layout\n",
    "app.layout = html.Div([\n",
    "    html.H1(\"Sales of Product Categories by Country\"),\n",
    "    \n",
    "    dcc.RadioItems(\n",
    "        id='category-selector',\n",
    "        options=[{'label': category.lower(), 'value': category} for category in sales_by_country_category['Description'].unique()],\n",
    "        value=sales_by_country_category['Description'].unique()[0],  # Initially select the first category\n",
    "        labelStyle={'display': 'inline-block'}\n",
    "    ),\n",
    "    \n",
    "    dcc.Graph(\n",
    "        id='choropleth-map'\n",
    "    )\n",
    "])\n",
    "\n",
    "# Define callback to update choropleth map based on category selection\n",
    "@app.callback(\n",
    "    Output('choropleth-map', 'figure'),\n",
    "    [Input('category-selector', 'value')]\n",
    ")\n",
    "def update_choropleth(selected_category):\n",
    "    filtered_df = sales_by_country_category[sales_by_country_category['Description'] == selected_category]\n",
    "    \n",
    "    # Create choropleth map\n",
    "    fig = px.choropleth(filtered_df, \n",
    "                        locations='Country',\n",
    "                        locationmode='country names',\n",
    "                        color='SalesTotal',  # Color by total sales\n",
    "                        hover_name='Country',  # Show country name on hover\n",
    "                        hover_data=['Description', 'SalesTotal'],  # Additional data on hover\n",
    "                        color_continuous_scale='rainbow',  # Color scale\n",
    "                        projection='natural earth')  # Map projection\n",
    "    \n",
    "    # Customize layout\n",
    "    fig.update_layout(title='Sales of Product Categories by Country',\n",
    "                      geo=dict(showcoastlines=True, showframe=False))  # Customize map appearance\n",
    "    \n",
    "    return fig\n",
    "\n",
    "# Run the app\n",
    "if __name__ == '__main__':\n",
    "    app.run_server(debug=True)\n"
   ]
  },
  {
   "cell_type": "code",
   "execution_count": null,
   "id": "6912d4e5-c251-45d0-b918-301d0aeed30e",
   "metadata": {},
   "outputs": [],
   "source": []
  },
  {
   "cell_type": "code",
   "execution_count": null,
   "id": "6dcafd1a-a093-4dd7-9d77-80ee75f9a134",
   "metadata": {},
   "outputs": [],
   "source": []
  }
 ],
 "metadata": {
  "kernelspec": {
   "display_name": "Python 3 (ipykernel)",
   "language": "python",
   "name": "python3"
  },
  "language_info": {
   "codemirror_mode": {
    "name": "ipython",
    "version": 3
   },
   "file_extension": ".py",
   "mimetype": "text/x-python",
   "name": "python",
   "nbconvert_exporter": "python",
   "pygments_lexer": "ipython3",
   "version": "3.12.3"
  }
 },
 "nbformat": 4,
 "nbformat_minor": 5
}
