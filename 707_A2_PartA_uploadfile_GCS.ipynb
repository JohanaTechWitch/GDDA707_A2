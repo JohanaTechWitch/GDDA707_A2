{
 "cells": [
  {
   "cell_type": "code",
   "execution_count": 4,
   "id": "3d2bb1f1-f553-41b4-9e1f-896422a493f2",
   "metadata": {},
   "outputs": [],
   "source": [
    "# Run the following command to install the Google Cloud Storage client library:\n",
    "#pip install google-cloud\n",
    "#from google.cloud import storage"
   ]
  },
  {
   "cell_type": "code",
   "execution_count": 1,
   "id": "22201d43-1d3b-4ffa-8fe4-9a752a584cc9",
   "metadata": {},
   "outputs": [
    {
     "name": "stdout",
     "output_type": "stream",
     "text": [
      "Requirement already satisfied: google-cloud-storage in c:\\users\\johan\\appdata\\local\\programs\\python\\python312\\lib\\site-packages (2.18.2)\n",
      "Requirement already satisfied: google-cloud-compute in c:\\users\\johan\\appdata\\local\\programs\\python\\python312\\lib\\site-packages (1.19.1)\n",
      "Requirement already satisfied: google-auth<3.0dev,>=2.26.1 in c:\\users\\johan\\appdata\\local\\programs\\python\\python312\\lib\\site-packages (from google-cloud-storage) (2.32.0)\n",
      "Requirement already satisfied: google-api-core<3.0.0dev,>=2.15.0 in c:\\users\\johan\\appdata\\local\\programs\\python\\python312\\lib\\site-packages (from google-cloud-storage) (2.19.1)\n",
      "Requirement already satisfied: google-cloud-core<3.0dev,>=2.3.0 in c:\\users\\johan\\appdata\\local\\programs\\python\\python312\\lib\\site-packages (from google-cloud-storage) (2.4.1)\n",
      "Requirement already satisfied: google-resumable-media>=2.7.2 in c:\\users\\johan\\appdata\\local\\programs\\python\\python312\\lib\\site-packages (from google-cloud-storage) (2.7.2)\n",
      "Requirement already satisfied: requests<3.0.0dev,>=2.18.0 in c:\\users\\johan\\appdata\\local\\programs\\python\\python312\\lib\\site-packages (from google-cloud-storage) (2.32.3)\n",
      "Requirement already satisfied: google-crc32c<2.0dev,>=1.0 in c:\\users\\johan\\appdata\\local\\programs\\python\\python312\\lib\\site-packages (from google-cloud-storage) (1.5.0)\n",
      "Requirement already satisfied: proto-plus<2.0.0dev,>=1.22.3 in c:\\users\\johan\\appdata\\local\\programs\\python\\python312\\lib\\site-packages (from google-cloud-compute) (1.24.0)\n",
      "Requirement already satisfied: protobuf!=4.21.0,!=4.21.1,!=4.21.2,!=4.21.3,!=4.21.4,!=4.21.5,<6.0.0dev,>=3.20.2 in c:\\users\\johan\\appdata\\local\\programs\\python\\python312\\lib\\site-packages (from google-cloud-compute) (5.27.2)\n",
      "Requirement already satisfied: googleapis-common-protos<2.0.dev0,>=1.56.2 in c:\\users\\johan\\appdata\\local\\programs\\python\\python312\\lib\\site-packages (from google-api-core<3.0.0dev,>=2.15.0->google-cloud-storage) (1.63.2)\n",
      "Requirement already satisfied: grpcio<2.0dev,>=1.33.2 in c:\\users\\johan\\appdata\\local\\programs\\python\\python312\\lib\\site-packages (from google-api-core[grpc]!=2.0.*,!=2.1.*,!=2.10.*,!=2.2.*,!=2.3.*,!=2.4.*,!=2.5.*,!=2.6.*,!=2.7.*,!=2.8.*,!=2.9.*,<3.0.0dev,>=1.34.1->google-cloud-compute) (1.64.1)\n",
      "Requirement already satisfied: grpcio-status<2.0.dev0,>=1.33.2 in c:\\users\\johan\\appdata\\local\\programs\\python\\python312\\lib\\site-packages (from google-api-core[grpc]!=2.0.*,!=2.1.*,!=2.10.*,!=2.2.*,!=2.3.*,!=2.4.*,!=2.5.*,!=2.6.*,!=2.7.*,!=2.8.*,!=2.9.*,<3.0.0dev,>=1.34.1->google-cloud-compute) (1.64.1)\n",
      "Requirement already satisfied: cachetools<6.0,>=2.0.0 in c:\\users\\johan\\appdata\\local\\programs\\python\\python312\\lib\\site-packages (from google-auth<3.0dev,>=2.26.1->google-cloud-storage) (5.3.3)\n",
      "Requirement already satisfied: pyasn1-modules>=0.2.1 in c:\\users\\johan\\appdata\\local\\programs\\python\\python312\\lib\\site-packages (from google-auth<3.0dev,>=2.26.1->google-cloud-storage) (0.4.0)\n",
      "Requirement already satisfied: rsa<5,>=3.1.4 in c:\\users\\johan\\appdata\\local\\programs\\python\\python312\\lib\\site-packages (from google-auth<3.0dev,>=2.26.1->google-cloud-storage) (4.9)\n",
      "Requirement already satisfied: charset-normalizer<4,>=2 in c:\\users\\johan\\appdata\\local\\programs\\python\\python312\\lib\\site-packages (from requests<3.0.0dev,>=2.18.0->google-cloud-storage) (3.3.2)\n",
      "Requirement already satisfied: idna<4,>=2.5 in c:\\users\\johan\\appdata\\local\\programs\\python\\python312\\lib\\site-packages (from requests<3.0.0dev,>=2.18.0->google-cloud-storage) (3.7)\n",
      "Requirement already satisfied: urllib3<3,>=1.21.1 in c:\\users\\johan\\appdata\\local\\programs\\python\\python312\\lib\\site-packages (from requests<3.0.0dev,>=2.18.0->google-cloud-storage) (2.2.1)\n",
      "Requirement already satisfied: certifi>=2017.4.17 in c:\\users\\johan\\appdata\\local\\programs\\python\\python312\\lib\\site-packages (from requests<3.0.0dev,>=2.18.0->google-cloud-storage) (2024.2.2)\n",
      "Requirement already satisfied: pyasn1<0.7.0,>=0.4.6 in c:\\users\\johan\\appdata\\local\\programs\\python\\python312\\lib\\site-packages (from pyasn1-modules>=0.2.1->google-auth<3.0dev,>=2.26.1->google-cloud-storage) (0.6.0)\n",
      "Note: you may need to restart the kernel to use updated packages.\n"
     ]
    },
    {
     "name": "stderr",
     "output_type": "stream",
     "text": [
      "\n",
      "[notice] A new release of pip is available: 24.0 -> 24.2\n",
      "[notice] To update, run: python.exe -m pip install --upgrade pip\n"
     ]
    }
   ],
   "source": [
    "pip install google-cloud-storage google-cloud-compute"
   ]
  },
  {
   "cell_type": "code",
   "execution_count": 2,
   "id": "c052446e-7b6a-4958-a171-40823bdf73c4",
   "metadata": {},
   "outputs": [
    {
     "name": "stdout",
     "output_type": "stream",
     "text": [
      "Requirement already satisfied: google-cloud-storage in c:\\users\\johan\\appdata\\local\\programs\\python\\python312\\lib\\site-packages (2.18.2)\n",
      "Requirement already satisfied: google-auth<3.0dev,>=2.26.1 in c:\\users\\johan\\appdata\\local\\programs\\python\\python312\\lib\\site-packages (from google-cloud-storage) (2.32.0)\n",
      "Requirement already satisfied: google-api-core<3.0.0dev,>=2.15.0 in c:\\users\\johan\\appdata\\local\\programs\\python\\python312\\lib\\site-packages (from google-cloud-storage) (2.19.1)\n",
      "Requirement already satisfied: google-cloud-core<3.0dev,>=2.3.0 in c:\\users\\johan\\appdata\\local\\programs\\python\\python312\\lib\\site-packages (from google-cloud-storage) (2.4.1)\n",
      "Requirement already satisfied: google-resumable-media>=2.7.2 in c:\\users\\johan\\appdata\\local\\programs\\python\\python312\\lib\\site-packages (from google-cloud-storage) (2.7.2)\n",
      "Requirement already satisfied: requests<3.0.0dev,>=2.18.0 in c:\\users\\johan\\appdata\\local\\programs\\python\\python312\\lib\\site-packages (from google-cloud-storage) (2.32.3)\n",
      "Requirement already satisfied: google-crc32c<2.0dev,>=1.0 in c:\\users\\johan\\appdata\\local\\programs\\python\\python312\\lib\\site-packages (from google-cloud-storage) (1.5.0)\n",
      "Requirement already satisfied: googleapis-common-protos<2.0.dev0,>=1.56.2 in c:\\users\\johan\\appdata\\local\\programs\\python\\python312\\lib\\site-packages (from google-api-core<3.0.0dev,>=2.15.0->google-cloud-storage) (1.63.2)\n",
      "Requirement already satisfied: protobuf!=3.20.0,!=3.20.1,!=4.21.0,!=4.21.1,!=4.21.2,!=4.21.3,!=4.21.4,!=4.21.5,<6.0.0.dev0,>=3.19.5 in c:\\users\\johan\\appdata\\local\\programs\\python\\python312\\lib\\site-packages (from google-api-core<3.0.0dev,>=2.15.0->google-cloud-storage) (5.27.2)\n",
      "Requirement already satisfied: proto-plus<2.0.0dev,>=1.22.3 in c:\\users\\johan\\appdata\\local\\programs\\python\\python312\\lib\\site-packages (from google-api-core<3.0.0dev,>=2.15.0->google-cloud-storage) (1.24.0)\n",
      "Requirement already satisfied: cachetools<6.0,>=2.0.0 in c:\\users\\johan\\appdata\\local\\programs\\python\\python312\\lib\\site-packages (from google-auth<3.0dev,>=2.26.1->google-cloud-storage) (5.3.3)\n",
      "Requirement already satisfied: pyasn1-modules>=0.2.1 in c:\\users\\johan\\appdata\\local\\programs\\python\\python312\\lib\\site-packages (from google-auth<3.0dev,>=2.26.1->google-cloud-storage) (0.4.0)\n",
      "Requirement already satisfied: rsa<5,>=3.1.4 in c:\\users\\johan\\appdata\\local\\programs\\python\\python312\\lib\\site-packages (from google-auth<3.0dev,>=2.26.1->google-cloud-storage) (4.9)\n",
      "Requirement already satisfied: charset-normalizer<4,>=2 in c:\\users\\johan\\appdata\\local\\programs\\python\\python312\\lib\\site-packages (from requests<3.0.0dev,>=2.18.0->google-cloud-storage) (3.3.2)\n",
      "Requirement already satisfied: idna<4,>=2.5 in c:\\users\\johan\\appdata\\local\\programs\\python\\python312\\lib\\site-packages (from requests<3.0.0dev,>=2.18.0->google-cloud-storage) (3.7)\n",
      "Requirement already satisfied: urllib3<3,>=1.21.1 in c:\\users\\johan\\appdata\\local\\programs\\python\\python312\\lib\\site-packages (from requests<3.0.0dev,>=2.18.0->google-cloud-storage) (2.2.1)\n",
      "Requirement already satisfied: certifi>=2017.4.17 in c:\\users\\johan\\appdata\\local\\programs\\python\\python312\\lib\\site-packages (from requests<3.0.0dev,>=2.18.0->google-cloud-storage) (2024.2.2)\n",
      "Requirement already satisfied: pyasn1<0.7.0,>=0.4.6 in c:\\users\\johan\\appdata\\local\\programs\\python\\python312\\lib\\site-packages (from pyasn1-modules>=0.2.1->google-auth<3.0dev,>=2.26.1->google-cloud-storage) (0.6.0)\n",
      "Note: you may need to restart the kernel to use updated packages.\n"
     ]
    },
    {
     "name": "stderr",
     "output_type": "stream",
     "text": [
      "\n",
      "[notice] A new release of pip is available: 24.0 -> 24.2\n",
      "[notice] To update, run: python.exe -m pip install --upgrade pip\n"
     ]
    }
   ],
   "source": [
    "pip install --upgrade google-cloud-storage"
   ]
  },
  {
   "cell_type": "code",
   "execution_count": 3,
   "id": "867c1220-2cb8-4375-81e1-26c3d1e003b7",
   "metadata": {},
   "outputs": [],
   "source": [
    "# import the required packages\n",
    "import os\n",
    "#try to connect to google cloud\n",
    "from google.cloud import storage\n",
    "import datetime\n",
    "from pprint import pprint"
   ]
  },
  {
   "cell_type": "code",
   "execution_count": 4,
   "id": "e73cbc49-fdd5-407b-80c4-36792107b872",
   "metadata": {},
   "outputs": [],
   "source": [
    "os.environ['GOOGLE_APPLICATION_CREDENTIALS'] = r'unique-voyage-429507-b8-89db5b915f05.json'"
   ]
  },
  {
   "cell_type": "code",
   "execution_count": 5,
   "id": "3ebbf947-64ee-49b2-b137-01b52ab7da75",
   "metadata": {},
   "outputs": [],
   "source": [
    "storage_client = storage.Client()"
   ]
  },
  {
   "cell_type": "code",
   "execution_count": 6,
   "id": "d1a9bae1-318d-4fd1-ba57-6bb90dce1685",
   "metadata": {},
   "outputs": [],
   "source": [
    "# dir(storage_client)"
   ]
  },
  {
   "cell_type": "code",
   "execution_count": 7,
   "id": "9f7e71dc-8941-4c00-9ad6-d49e7593b1d3",
   "metadata": {},
   "outputs": [
    {
     "name": "stderr",
     "output_type": "stream",
     "text": [
      "C:\\Users\\johan\\AppData\\Local\\Temp\\ipykernel_27500\\2077461793.py:14: DeprecationWarning: Assignment to 'Bucket.location' is deprecated, as it is only valid before the bucket is created. Instead, pass the location to `Bucket.create`.\n",
      "  bucket.location = 'US'  # Choose location: US | Taiwan\n"
     ]
    },
    {
     "name": "stdout",
     "output_type": "stream",
     "text": [
      "Bucket created with name: data_bucket_20240818122259\n"
     ]
    }
   ],
   "source": [
    "from google.cloud import storage\n",
    "import datetime\n",
    "\n",
    "# Initialize a storage client\n",
    "storage_client = storage.Client()\n",
    "\n",
    "# Generate a unique bucket name with a timestamp\n",
    "unique_suffix = datetime.datetime.now().strftime(\"%Y%m%d%H%M%S\")\n",
    "bucket_name = f\"data_bucket_{unique_suffix}\"\n",
    "\n",
    "# Create a new bucket object with settings\n",
    "bucket = storage_client.bucket(bucket_name)\n",
    "bucket.storage_class = 'COLDLINE'  # Choose storage class: Archive | Nearline | Standard\n",
    "bucket.location = 'US'  # Choose location: US | Taiwan\n",
    "\n",
    "# Create the bucket and retrieve the bucket object\n",
    "bucket = storage_client.create_bucket(bucket)\n",
    "\n",
    "# Output the unique bucket name\n",
    "print(f\"Bucket created with name: {bucket_name}\")"
   ]
  },
  {
   "cell_type": "code",
   "execution_count": 8,
   "id": "e476aad1-67a0-490a-b54a-1793705e321d",
   "metadata": {},
   "outputs": [
    {
     "name": "stdout",
     "output_type": "stream",
     "text": [
      "{'_acl': <google.cloud.storage.acl.BucketACL object at 0x0000014E58D67D70>,\n",
      " '_changes': set(),\n",
      " '_client': <google.cloud.storage.client.Client object at 0x0000014E592E3B90>,\n",
      " '_default_object_acl': <google.cloud.storage.acl.DefaultObjectACL object at 0x0000014E594158E0>,\n",
      " '_label_removals': set(),\n",
      " '_properties': {'etag': 'CAE=',\n",
      "                 'iamConfiguration': {'bucketPolicyOnly': {'enabled': False},\n",
      "                                      'publicAccessPrevention': 'inherited',\n",
      "                                      'uniformBucketLevelAccess': {'enabled': False}},\n",
      "                 'id': 'data_bucket_20240818122259',\n",
      "                 'kind': 'storage#bucket',\n",
      "                 'location': 'US',\n",
      "                 'locationType': 'multi-region',\n",
      "                 'metageneration': '1',\n",
      "                 'name': 'data_bucket_20240818122259',\n",
      "                 'projectNumber': '39188066749',\n",
      "                 'rpo': 'DEFAULT',\n",
      "                 'selfLink': 'https://www.googleapis.com/storage/v1/b/data_bucket_20240818122259',\n",
      "                 'softDeletePolicy': {'effectiveTime': '2024-08-18T00:22:13.366Z',\n",
      "                                      'retentionDurationSeconds': '604800'},\n",
      "                 'storageClass': 'COLDLINE',\n",
      "                 'timeCreated': '2024-08-18T00:22:13.366Z',\n",
      "                 'updated': '2024-08-18T00:22:13.366Z'},\n",
      " '_user_project': None,\n",
      " 'name': 'data_bucket_20240818122259'}\n"
     ]
    }
   ],
   "source": [
    "pprint(vars(bucket))"
   ]
  },
  {
   "cell_type": "code",
   "execution_count": 9,
   "id": "aa1803bb-07a0-4ea4-b639-acf00a3383eb",
   "metadata": {},
   "outputs": [
    {
     "data": {
      "text/plain": [
       "'data_bucket_20240818122259'"
      ]
     },
     "execution_count": 9,
     "metadata": {},
     "output_type": "execute_result"
    }
   ],
   "source": [
    "bucket.name"
   ]
  },
  {
   "cell_type": "code",
   "execution_count": 10,
   "id": "5d96addb-c2fb-4176-9473-2278833731d7",
   "metadata": {},
   "outputs": [
    {
     "name": "stdout",
     "output_type": "stream",
     "text": [
      "{'_acl': <google.cloud.storage.acl.BucketACL object at 0x0000014E58D67470>,\n",
      " '_changes': set(),\n",
      " '_client': <google.cloud.storage.client.Client object at 0x0000014E592E3B90>,\n",
      " '_default_object_acl': <google.cloud.storage.acl.DefaultObjectACL object at 0x0000014E58D644A0>,\n",
      " '_label_removals': set(),\n",
      " '_properties': {'etag': 'CAE=',\n",
      "                 'iamConfiguration': {'bucketPolicyOnly': {'enabled': False},\n",
      "                                      'publicAccessPrevention': 'inherited',\n",
      "                                      'uniformBucketLevelAccess': {'enabled': False}},\n",
      "                 'id': 'data_bucket_20240818122259',\n",
      "                 'kind': 'storage#bucket',\n",
      "                 'location': 'US',\n",
      "                 'locationType': 'multi-region',\n",
      "                 'metageneration': '1',\n",
      "                 'name': 'data_bucket_20240818122259',\n",
      "                 'projectNumber': '39188066749',\n",
      "                 'rpo': 'DEFAULT',\n",
      "                 'selfLink': 'https://www.googleapis.com/storage/v1/b/data_bucket_20240818122259',\n",
      "                 'softDeletePolicy': {'effectiveTime': '2024-08-18T00:22:13.366Z',\n",
      "                                      'retentionDurationSeconds': '604800'},\n",
      "                 'storageClass': 'COLDLINE',\n",
      "                 'timeCreated': '2024-08-18T00:22:13.366Z',\n",
      "                 'updated': '2024-08-18T00:22:13.366Z'},\n",
      " '_user_project': None,\n",
      " 'name': 'data_bucket_20240818122259'}\n"
     ]
    }
   ],
   "source": [
    "\"\"\"\n",
    "Get Bucket / Print Bucket Detail\n",
    "\"\"\"\n",
    "my_bucket = storage_client.get_bucket(bucket_name)\n",
    "pprint(vars(my_bucket))"
   ]
  },
  {
   "cell_type": "code",
   "execution_count": 12,
   "id": "f22e9fb2-75c4-4afd-9a4d-fc32ae8b6a29",
   "metadata": {},
   "outputs": [
    {
     "name": "stdout",
     "output_type": "stream",
     "text": [
      "File uploaded to Google Cloud Storage.\n"
     ]
    }
   ],
   "source": [
    "\"\"\"\n",
    "Upload Files\n",
    "\"\"\"\n",
    "from google.cloud import storage\n",
    "\n",
    "# Initialize a Google Cloud Storage client\n",
    "client = storage.Client()\n",
    "bucket_name = 'data_bucket_20240818122259'\n",
    "bucket = client.get_bucket(bucket_name)\n",
    "\n",
    "# Upload the file\n",
    "blob = bucket.blob('unified1.csv')\n",
    "blob.upload_from_filename('unified1.csv')\n",
    "\n",
    "print(\"File uploaded to Google Cloud Storage.\")"
   ]
  },
  {
   "cell_type": "code",
   "execution_count": null,
   "id": "c1e8aa6c-4e94-409e-a55d-68c8bb5f1e52",
   "metadata": {},
   "outputs": [],
   "source": []
  }
 ],
 "metadata": {
  "kernelspec": {
   "display_name": "Python 3 (ipykernel)",
   "language": "python",
   "name": "python3"
  },
  "language_info": {
   "codemirror_mode": {
    "name": "ipython",
    "version": 3
   },
   "file_extension": ".py",
   "mimetype": "text/x-python",
   "name": "python",
   "nbconvert_exporter": "python",
   "pygments_lexer": "ipython3",
   "version": "3.12.3"
  }
 },
 "nbformat": 4,
 "nbformat_minor": 5
}
