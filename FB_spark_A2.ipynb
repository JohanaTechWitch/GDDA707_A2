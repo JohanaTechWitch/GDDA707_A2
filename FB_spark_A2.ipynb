{
 "cells": [
  {
   "cell_type": "code",
   "execution_count": null,
   "id": "4008843f-c019-4e3b-b276-b1744f6562cb",
   "metadata": {},
   "outputs": [],
   "source": [
    "from pyspark.sql import SparkSession\n",
    "import requests\n",
    "import json\n",
    "import time\n",
    "import logging"
   ]
  },
  {
   "cell_type": "code",
   "execution_count": null,
   "id": "2e9cee57-eb4e-48ae-8f4c-543ad0844e2f",
   "metadata": {},
   "outputs": [],
   "source": [
    "# Configure the logging system\n",
    "logging.basicConfig(level=logging.INFO)  # Set the logging level\n",
    "logger = logging.getLogger(__name__)  # Create a logger instance"
   ]
  },
  {
   "cell_type": "code",
   "execution_count": null,
   "id": "67ef3241-ec03-4bbf-8646-9cad63d1da9f",
   "metadata": {},
   "outputs": [],
   "source": [
    "def fetch_facebook_data(access_token, endpoint, params=None):\n",
    "    url = f\"https://graph.facebook.com/v12.0/{endpoint}\"\n",
    "    params = params or {}\n",
    "    params['access_token'] = access_token\n",
    "    logger.info(\"Fetching data from Facebook API: %s\", url)  # Log the API call\n",
    "    \n",
    "    try:\n",
    "        response = requests.get(url, params=params)\n",
    "        logger.info(\"Received response with status code: %d\", response.status_code)  # Log the response status\n",
    "        \n",
    "        # Check for errors in the response\n",
    "        if response.status_code != 200:\n",
    "            logger.error(\"Error fetching data: %s\", response.json())  # Log error details\n",
    "            return {}\n",
    "        \n",
    "        return response.json()\n",
    "    except requests.exceptions.RequestException as e:\n",
    "        logger.error(\"Request failed: %s\", e)  # Log request failure\n",
    "        return {}\n",
    "    except json.JSONDecodeError:\n",
    "        logger.error(\"Failed to decode JSON response\")  # Log JSON decoding error\n",
    "        return {}\n",
    "    "
   ]
  },
  {
   "cell_type": "code",
   "execution_count": null,
   "id": "806f4556-fa52-49d2-8d14-d3b4b8fbdbb7",
   "metadata": {},
   "outputs": [],
   "source": [
    "# Function to simulate streaming data by continuously fetching from Facebook API\n",
    "def fetch_and_stream_data(spark, access_token):\n",
    "    user_id = '122105593520465928'  # Update with your user ID\n",
    "    while True:\n",
    "        logger.info(\"Fetching posts for user ID: %s\", user_id)  # Log the user ID being queried\n",
    "        posts = fetch_facebook_data(access_token, f\"{user_id}/posts\")\n",
    "        \n",
    "        data = [json.dumps(post) for post in posts.get('data', [])]\n",
    "        \n",
    "        if data:\n",
    "            logger.info(\"Received %d posts\", len(data))  # Log the number of posts received\n",
    "            df = spark.read.json(spark.sparkContext.parallelize(data))\n",
    "            df.write.format(\"console\").option(\"truncate\", \"false\").save()\n",
    "        else:\n",
    "            logger.info(\"No new posts received.\")  # Log if no new posts are available\n",
    "        \n",
    "        time.sleep(30)  # Adjust the sleep interval as needed\n",
    "\n",
    "if __name__ == \"__main__\":\n",
    "    spark = SparkSession.builder \\\n",
    "        .appName(\"FacebookStreaming\") \\\n",
    "        .getOrCreate()\n",
    "\n",
    "    access_token = 'EAAO1ssjC7GcBOw3ZCZAMNBPQUsebZAZB7iVP9bZBBxjw8ZCzlZAYyKzxSXzZCgvioULZCUqQ5i6Ag5d7WnKwDaayk9H6CUxuxo3wvcKyZBwZAVmrCnTBBpU4cStRB2DMlFOKFKsMPAhw1ijio30dkLuIK7BZBFWPYFw7e7c015ErpjZB4E5lzbN22kYIA8Unzv5SbgFgv9WfwmxDaH7tbIvAUUfcVMuYRl39MmvYQf1caTS2kprHctLGzcx1R5jSUm3TW'# Update with your token"
   ]
  },
  {
   "cell_type": "code",
   "execution_count": null,
   "id": "bd8f30a0-437b-4b35-892f-3c07ab83e281",
   "metadata": {},
   "outputs": [],
   "source": [
    " # Start the data fetching and streaming process\n",
    "    logger.info(\"Starting the Facebook streaming process...\")\n",
    "    fetch_and_stream_data(spark, access_token)"
   ]
  },
  {
   "cell_type": "code",
   "execution_count": null,
   "id": "81464233-7aec-433d-bb05-73d503229c82",
   "metadata": {},
   "outputs": [],
   "source": []
  }
 ],
 "metadata": {
  "kernelspec": {
   "display_name": "Python 3 (ipykernel)",
   "language": "python",
   "name": "python3"
  },
  "language_info": {
   "codemirror_mode": {
    "name": "ipython",
    "version": 3
   },
   "file_extension": ".py",
   "mimetype": "text/x-python",
   "name": "python",
   "nbconvert_exporter": "python",
   "pygments_lexer": "ipython3",
   "version": "3.12.3"
  }
 },
 "nbformat": 4,
 "nbformat_minor": 5
}
